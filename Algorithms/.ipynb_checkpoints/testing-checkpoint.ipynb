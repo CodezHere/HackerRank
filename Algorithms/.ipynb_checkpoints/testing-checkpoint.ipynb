{
 "cells": [
  {
   "cell_type": "code",
   "execution_count": 31,
   "id": "db6bb467",
   "metadata": {},
   "outputs": [],
   "source": [
    "s = 7 \n",
    "t = 11\n",
    "a = 5 \n",
    "b = 15\n",
    "m = 3 \n",
    "n = 2\n",
    "\n",
    "apples = [-2, 2, 1]\n",
    "oranges = [5, -6]"
   ]
  },
  {
   "cell_type": "code",
   "execution_count": 37,
   "id": "602d3d5c",
   "metadata": {},
   "outputs": [
    {
     "name": "stdout",
     "output_type": "stream",
     "text": [
      "1\n",
      "1\n"
     ]
    }
   ],
   "source": [
    "def countApplesAndOranges(s, t, a, b, apples, oranges):\n",
    "    # Write your code here\n",
    "    appleCount = 0 \n",
    "    orangeCount = 0\n",
    "    \n",
    "    for i in range(len(apples)):\n",
    "        if apples[i] + a >= s and apples[i] + a <= t:\n",
    "            appleCount += 1\n",
    "    \n",
    "    for i in range(len(oranges)):\n",
    "        if oranges[i] + b >= s and oranges[i] + b <= t:\n",
    "            orangeCount += 1\n",
    "            \n",
    "    print(appleCount)\n",
    "    print(orangeCount)\n",
    "\n",
    "countApplesAndOranges(s, t, a, b, apples, oranges)"
   ]
  },
  {
   "cell_type": "code",
   "execution_count": null,
   "id": "d2c14af1",
   "metadata": {},
   "outputs": [],
   "source": []
  }
 ],
 "metadata": {
  "kernelspec": {
   "display_name": "Python 3",
   "language": "python",
   "name": "python3"
  },
  "language_info": {
   "codemirror_mode": {
    "name": "ipython",
    "version": 3
   },
   "file_extension": ".py",
   "mimetype": "text/x-python",
   "name": "python",
   "nbconvert_exporter": "python",
   "pygments_lexer": "ipython3",
   "version": "3.7.7"
  }
 },
 "nbformat": 4,
 "nbformat_minor": 5
}
