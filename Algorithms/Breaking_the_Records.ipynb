{
 "cells": [
  {
   "cell_type": "markdown",
   "metadata": {},
   "source": [
    "![Alt text](image.png)\n",
    "![Alt text](image-1.png)\n",
    "![Alt text](image-2.png)"
   ]
  },
  {
   "cell_type": "code",
   "execution_count": null,
   "metadata": {},
   "outputs": [],
   "source": [
    "import math\n",
    "import os\n",
    "import random\n",
    "import re\n",
    "import sys\n",
    "\n",
    "# Complete the 'breakingRecords' function below.\n",
    "\n",
    "# The function is expected to return an INTEGER_ARRAY.\n",
    "# The function accepts INTEGER_ARRAY scores as parameter.\n",
    "\n",
    "\n",
    "def breakingRecords(scores):\n",
    "    \n",
    "    minScore = scores[0]\n",
    "    maxScore = scores[0]\n",
    "\n",
    "    minCount = 0\n",
    "    maxCount = 0 \n",
    "        \n",
    "    for i in range(n):\n",
    "\n",
    "        if scores[i] < minScore:\n",
    "            minScore = scores[i]\n",
    "            minCount += 1\n",
    "\n",
    "        elif scores[i] > maxScore:\n",
    "            maxScore = scores[i]\n",
    "            maxCount += 1\n",
    "\n",
    "    return maxCount, minCount\n",
    "\n",
    "if __name__ == '__main__':\n",
    "    fptr = open(os.environ['OUTPUT_PATH'], 'w')\n",
    "\n",
    "    n = int(input().strip())\n",
    "\n",
    "    scores = list(map(int, input().rstrip().split()))\n",
    "\n",
    "    result = breakingRecords(scores)\n",
    "\n",
    "    fptr.write(' '.join(map(str, result)))\n",
    "    fptr.write('\\n')\n",
    "\n",
    "    fptr.close()"
   ]
  }
 ],
 "metadata": {
  "language_info": {
   "name": "python"
  },
  "orig_nbformat": 4
 },
 "nbformat": 4,
 "nbformat_minor": 2
}
