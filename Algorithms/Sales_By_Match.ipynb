{
 "cells": [
  {
   "cell_type": "code",
   "execution_count": 1,
   "metadata": {},
   "outputs": [
    {
     "data": {
      "text/plain": [
       "'There is a large pile of socks that must be paired by color. Given an array of integers representing the color of each sock, determine how many pairs of socks with matching colors there are.\\nExample\\nn = 7\\nar = [1, 2, 1, 2, 1, 3, 2]\\nThere is one pair of color 1 and one of color 2. There are three odd socks left, one of each color. The number of pairs is 2.\\nFunction Description\\nComplete the sockMerchant function in the editor below.\\nsockMerchant has the following parameters):\\n• int n: the number of socks in the pile\\n• int arIn]: the colors of each sock\\nReturns\\n• int: the number of pairs\\nInput Format\\nThe first line contains an integer n, the number of socks represented in ar.\\nThe second line contains n space-separated integers, arli, the colors of the socks in the pile.\\nConstraints\\n• 1<n ≤ 100\\n• 1 ≤ arli] ≤ 100 where 0 ≤ i < n'"
      ]
     },
     "execution_count": 1,
     "metadata": {},
     "output_type": "execute_result"
    }
   ],
   "source": [
    "\"\"\"There is a large pile of socks that must be paired by color. Given an array of integers representing the color of each sock, determine how many pairs of socks with matching colors there are.\n",
    "Example\n",
    "n = 7\n",
    "ar = [1, 2, 1, 2, 1, 3, 2]\n",
    "There is one pair of color 1 and one of color 2. There are three odd socks left, one of each color. The number of pairs is 2.\n",
    "Function Description\n",
    "Complete the sockMerchant function in the editor below.\n",
    "sockMerchant has the following parameters):\n",
    "• int n: the number of socks in the pile\n",
    "• int arIn]: the colors of each sock\n",
    "Returns\n",
    "• int: the number of pairs\n",
    "Input Format\n",
    "The first line contains an integer n, the number of socks represented in ar.\n",
    "The second line contains n space-separated integers, arli, the colors of the socks in the pile.\n",
    "Constraints\n",
    "• 1<n ≤ 100\n",
    "• 1 ≤ arli] ≤ 100 where 0 ≤ i < n\"\"\""
   ]
  },
  {
   "cell_type": "code",
   "execution_count": 21,
   "metadata": {},
   "outputs": [],
   "source": [
    "import math\n",
    "import os\n",
    "import random\n",
    "import re\n",
    "import sys\n",
    "\n",
    "#\n",
    "# Complete the 'sockMerchant' function below.\n",
    "#\n",
    "# The function is expected to return an INTEGER.\n",
    "# The function accepts following parameters:\n",
    "#  1. INTEGER n\n",
    "#  2. INTEGER_ARRAY ar\n",
    "#\n",
    "\n",
    "n = 7\n",
    "ar = [1, 2, 1, 2, 1, 3, 2, 1, 2]"
   ]
  },
  {
   "cell_type": "code",
   "execution_count": null,
   "metadata": {},
   "outputs": [],
   "source": [
    "def sockMerchant(n, ar):\n"
   ]
  },
  {
   "cell_type": "code",
   "execution_count": 22,
   "metadata": {},
   "outputs": [
    {
     "name": "stdout",
     "output_type": "stream",
     "text": [
      "4\n"
     ]
    }
   ],
   "source": [
    "arSet = set(ar)\n",
    "totalPairs = 0\n",
    "sockCount = 0\n",
    "for sockNumber in arSet:\n",
    "    for sock in ar:\n",
    "        if sockNumber == sock:\n",
    "            sockCount += 1\n",
    "    totalPairs += sockCount//2\n",
    "    sockCount = 0\n",
    "print(totalPairs)"
   ]
  }
 ],
 "metadata": {
  "kernelspec": {
   "display_name": "3.12.5",
   "language": "python",
   "name": "python3"
  },
  "language_info": {
   "codemirror_mode": {
    "name": "ipython",
    "version": 3
   },
   "file_extension": ".py",
   "mimetype": "text/x-python",
   "name": "python",
   "nbconvert_exporter": "python",
   "pygments_lexer": "ipython3",
   "version": "3.12.5"
  }
 },
 "nbformat": 4,
 "nbformat_minor": 2
}
