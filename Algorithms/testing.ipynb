{
 "cells": [
  {
   "cell_type": "code",
   "execution_count": 13,
   "id": "db6bb467",
   "metadata": {},
   "outputs": [],
   "source": [
    "x1 = 0\n",
    "v1 = 2\n",
    "x2 = 5\n",
    "v2 = 3"
   ]
  },
  {
   "cell_type": "code",
   "execution_count": null,
   "id": "e9e8fc95-0dc0-45c5-9fe0-5beb9202eb95",
   "metadata": {},
   "outputs": [],
   "source": []
  },
  {
   "cell_type": "code",
   "execution_count": 18,
   "id": "602d3d5c",
   "metadata": {},
   "outputs": [],
   "source": [
    "def kangaroo(x1, v1, x2, v2):\n",
    "    \n",
    "    if x1 == x2:\n",
    "        return \"YES\"\n",
    "    \n",
    "    if v1 == v2:\n",
    "        return \"NO\"\n",
    "    \n",
    "    if x1<x2 and v1<v2:\n",
    "        return \"NO\"\n",
    "    \n",
    "    if ((x2-x1) % (v1-v2) == 0):\n",
    "        return \"YES\"\n",
    "    else:\n",
    "        return \"NO\""
   ]
  },
  {
   "cell_type": "code",
   "execution_count": 19,
   "id": "d2c14af1",
   "metadata": {},
   "outputs": [
    {
     "name": "stdout",
     "output_type": "stream",
     "text": [
      "1\n",
      "2\n",
      "3\n"
     ]
    },
    {
     "data": {
      "text/plain": [
       "'NO'"
      ]
     },
     "execution_count": 19,
     "metadata": {},
     "output_type": "execute_result"
    }
   ],
   "source": [
    "kangaroo(x1,v1,x2,v2)"
   ]
  },
  {
   "cell_type": "code",
   "execution_count": null,
   "id": "471ee411-c4d3-4d34-b365-874a1cea594b",
   "metadata": {},
   "outputs": [],
   "source": []
  }
 ],
 "metadata": {
  "kernelspec": {
   "display_name": "Python 3 (ipykernel)",
   "language": "python",
   "name": "python3"
  },
  "language_info": {
   "codemirror_mode": {
    "name": "ipython",
    "version": 3
   },
   "file_extension": ".py",
   "mimetype": "text/x-python",
   "name": "python",
   "nbconvert_exporter": "python",
   "pygments_lexer": "ipython3",
   "version": "3.11.0"
  }
 },
 "nbformat": 4,
 "nbformat_minor": 5
}
