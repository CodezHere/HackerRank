{
 "cells": [
  {
   "cell_type": "code",
   "execution_count": 6,
   "id": "31c07b95",
   "metadata": {},
   "outputs": [],
   "source": [
    "grades = [73,67,38,33]"
   ]
  },
  {
   "cell_type": "code",
   "execution_count": 2,
   "id": "c81f6a2a",
   "metadata": {},
   "outputs": [
    {
     "data": {
      "text/plain": [
       "[73, 67, 38, 33]"
      ]
     },
     "execution_count": 2,
     "metadata": {},
     "output_type": "execute_result"
    }
   ],
   "source": [
    "grades"
   ]
  },
  {
   "cell_type": "code",
   "execution_count": 8,
   "id": "42c74f03",
   "metadata": {},
   "outputs": [],
   "source": [
    "grades[0] = (5*(round(grades[0]/5)))"
   ]
  },
  {
   "cell_type": "code",
   "execution_count": 9,
   "id": "e5401be0",
   "metadata": {},
   "outputs": [
    {
     "data": {
      "text/plain": [
       "[75, 67, 38, 33]"
      ]
     },
     "execution_count": 9,
     "metadata": {},
     "output_type": "execute_result"
    }
   ],
   "source": [
    "grades"
   ]
  },
  {
   "cell_type": "code",
   "execution_count": null,
   "id": "9e311a6b",
   "metadata": {},
   "outputs": [],
   "source": []
  }
 ],
 "metadata": {
  "kernelspec": {
   "display_name": "Python 3",
   "language": "python",
   "name": "python3"
  },
  "language_info": {
   "codemirror_mode": {
    "name": "ipython",
    "version": 3
   },
   "file_extension": ".py",
   "mimetype": "text/x-python",
   "name": "python",
   "nbconvert_exporter": "python",
   "pygments_lexer": "ipython3",
   "version": "3.7.7"
  }
 },
 "nbformat": 4,
 "nbformat_minor": 5
}
