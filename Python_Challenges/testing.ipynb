{
 "cells": [
  {
   "cell_type": "code",
   "execution_count": 74,
   "id": "thermal-fashion",
   "metadata": {},
   "outputs": [],
   "source": [
    "a = {2, 4, 5, 9}"
   ]
  },
  {
   "cell_type": "code",
   "execution_count": 75,
   "id": "unlike-dealer",
   "metadata": {},
   "outputs": [],
   "source": [
    "b = {2, 4, 11, 12}"
   ]
  },
  {
   "cell_type": "code",
   "execution_count": 80,
   "id": "entitled-provider",
   "metadata": {},
   "outputs": [
    {
     "data": {
      "text/plain": [
       "[5, 9, 11, 12]"
      ]
     },
     "execution_count": 80,
     "metadata": {},
     "output_type": "execute_result"
    }
   ],
   "source": [
    "sorted(map(int, list(a.symmetric_difference(b))))"
   ]
  },
  {
   "cell_type": "code",
   "execution_count": 71,
   "id": "listed-might",
   "metadata": {},
   "outputs": [],
   "source": [
    "lst = list(a.symmetric_difference(b))"
   ]
  },
  {
   "cell_type": "code",
   "execution_count": 73,
   "id": "musical-vertical",
   "metadata": {},
   "outputs": [
    {
     "data": {
      "text/plain": [
       "int"
      ]
     },
     "execution_count": 73,
     "metadata": {},
     "output_type": "execute_result"
    }
   ],
   "source": [
    "type(lst[0])"
   ]
  },
  {
   "cell_type": "code",
   "execution_count": 81,
   "id": "suffering-highlight",
   "metadata": {},
   "outputs": [
    {
     "data": {
      "text/plain": [
       "['lemon', 'pear', 'watermelon', 'tomato']"
      ]
     },
     "execution_count": 81,
     "metadata": {},
     "output_type": "execute_result"
    }
   ],
   "source": [
    "fruits = ['lemon', 'pear', 'watermelon', 'tomato']\n",
    "fruits"
   ]
  },
  {
   "cell_type": "code",
   "execution_count": 83,
   "id": "acoustic-prototype",
   "metadata": {},
   "outputs": [
    {
     "name": "stdout",
     "output_type": "stream",
     "text": [
      "lemon\n",
      "pear\n",
      "watermelon\n",
      "tomato\n"
     ]
    }
   ],
   "source": [
    "print(*fruits, sep='\\n')"
   ]
  },
  {
   "cell_type": "code",
   "execution_count": null,
   "id": "broke-sullivan",
   "metadata": {},
   "outputs": [],
   "source": []
  }
 ],
 "metadata": {
  "kernelspec": {
   "display_name": "Python 3",
   "language": "python",
   "name": "python3"
  },
  "language_info": {
   "codemirror_mode": {
    "name": "ipython",
    "version": 3
   },
   "file_extension": ".py",
   "mimetype": "text/x-python",
   "name": "python",
   "nbconvert_exporter": "python",
   "pygments_lexer": "ipython3",
   "version": "3.7.7"
  }
 },
 "nbformat": 4,
 "nbformat_minor": 5
}
